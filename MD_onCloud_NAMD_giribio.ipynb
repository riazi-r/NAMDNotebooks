{
  "nbformat": 4,
  "nbformat_minor": 0,
  "metadata": {
    "colab": {
      "provenance": [],
      "gpuType": "T4",
      "include_colab_link": true
    },
    "kernelspec": {
      "name": "python3",
      "display_name": "Python 3"
    },
    "accelerator": "GPU"
  },
  "cells": [
    {
      "cell_type": "markdown",
      "metadata": {
        "id": "view-in-github",
        "colab_type": "text"
      },
      "source": [
        "<a href=\"https://colab.research.google.com/github/riazi-r/NAMDNotebooks/blob/master/MD_onCloud_NAMD_giribio.ipynb\" target=\"_parent\"><img src=\"https://colab.research.google.com/assets/colab-badge.svg\" alt=\"Open In Colab\"/></a>"
      ]
    },
    {
      "cell_type": "markdown",
      "metadata": {
        "id": "Gn6DkOOhX1FJ"
      },
      "source": [
        "**Run NAMD GPU in Colab by @giribio**\n",
        "\n",
        "1. NAMD config files are available in my Github page\n",
        "2. Upload all psf, prm, config files to your Google Drive after creating a folder (without space in the filename). \n",
        "3. Run the calculation in the same folder of Google Drive after mounting the drive.\n",
        "\n",
        "*Contact : https://www.linkedin.com/in/giribio/*\n",
        "  if you have any queries!\n",
        "*Happy Learning!*\n"
      ]
    },
    {
      "cell_type": "markdown",
      "metadata": {
        "id": "eTsOv6ONX06C"
      },
      "source": [
        "Enable GPU mode by going to \n",
        "Runtime menu > Change Runtime Type > choose GPU in Hardware Accelerator and click OK.\n",
        "\n",
        "Github : https://github.com/giribio/MDNotebooks"
      ]
    },
    {
      "cell_type": "markdown",
      "metadata": {
        "id": "qAYOPYNDX0sX"
      },
      "source": [
        "Limitations: Every 12hrs the data/Colab gets reset, so in free account you could use it for training/learning purpose only.\n",
        "Every 12hrs you have to start from 1st cell, like compilation etc. For paid accounts it is 24hrs.\n",
        "Make sure your colab webpage is active, else the compute engine gets disconnected."
      ]
    },
    {
      "cell_type": "markdown",
      "metadata": {
        "id": "JagMRlkWX0TK"
      },
      "source": [
        "**Mount Google Drive**\n",
        "Upload the prepared psf, pdb, param files (processed from VMD, merged protein-ligand complex)\n",
        "\n",
        "Watch this video : https://www.youtube.com/playlist?list=PL51Wmedj8glfHFB5LDc4bOVMKs7Zaf0wk\n",
        "\n",
        "On how to create PSF files in VMD, to calculate the cell size and merge protein-ligand psf as well as PDB files."
      ]
    },
    {
      "cell_type": "code",
      "metadata": {
        "colab": {
          "base_uri": "https://localhost:8080/"
        },
        "id": "gDG1hXc-J-sp",
        "outputId": "e39f4557-54ff-4fc4-ae33-fadf54b416eb"
      },
      "source": [
        "from google.colab import drive\n",
        "drive.mount('/content/gdrive')"
      ],
      "execution_count": 1,
      "outputs": [
        {
          "output_type": "stream",
          "name": "stdout",
          "text": [
            "Mounted at /content/gdrive\n"
          ]
        }
      ]
    },
    {
      "cell_type": "code",
      "source": [
        "%%bash\n",
        "mkdir Namd\n",
        "cp /content/gdrive/MyDrive/sim/aa_ref.pdb /content/Namd/\n",
        "cp /content/gdrive/MyDrive/sim/cg.par /content/Namd/\n",
        "cp /content/gdrive/MyDrive/sim/iteration2.conf /content/Namd/\n",
        "cp /content/gdrive/MyDrive/sim/Namd.zip /content/\n",
        "unzip Namd.zip\n",
        "cd Namd\n",
        "ls\n"
      ],
      "metadata": {
        "id": "dNFOZpka-sEe"
      },
      "execution_count": 36,
      "outputs": []
    },
    {
      "cell_type": "code",
      "metadata": {
        "id": "Jb0HO9xLKDip"
      },
      "source": [
        "#Let us check the resources avilable to your account.\n",
        "!lscpu\n",
        "!nvidia-smi"
      ],
      "execution_count": null,
      "outputs": []
    },
    {
      "cell_type": "markdown",
      "metadata": {
        "id": "q1urQYFibIVx"
      },
      "source": [
        "**Download NAMD GPU**\n",
        "\n",
        "VERY IMPORTANT\n",
        "\n",
        "Make sure you vist this webpage  \n",
        "https://www.ks.uiuc.edu/Research/namd/\n",
        "\n",
        "and understand how to use NAMD GPU"
      ]
    },
    {
      "cell_type": "code",
      "metadata": {
        "id": "fSPLP1B7KDxS"
      },
      "source": [
        "#Download, configure and check NAMD\n",
        "%%bash\n",
        "wget https://www.ks.uiuc.edu/Research/namd/2.14/download/946183/NAMD_2.14_Linux-x86_64-multicore-CUDA.tar.gz\n",
        "tar xfz NAMD_2.14_Linux-x86_64-multicore-CUDA.tar.gz\n",
        "mv -f NAMD_2.14_Linux-x86_64-multicore-CUDA namdgpu\n",
        "#mkdir /content/namdjobs\n",
        "cd /content/Namd\n",
        "/content/namdgpu/namd2 +auto-provision\n",
        "pwd"
      ],
      "execution_count": null,
      "outputs": []
    },
    {
      "cell_type": "markdown",
      "metadata": {
        "id": "BANS78rjWsXN"
      },
      "source": [
        "Download and Install VMD for Result Analysis"
      ]
    },
    {
      "cell_type": "code",
      "metadata": {
        "id": "hcNEi3I_M4hu"
      },
      "source": [
        "%%bash\n",
        "wget https://www.ks.uiuc.edu/Research/vmd/vmd-1.9.3/files/final/vmd-1.9.3.bin.LINUXAMD64.text.tar.gz\n",
        "tar -zxf vmd-1.9.3.bin.LINUXAMD64.text.tar.gz\n",
        "cd vmd-1.9.3/\n",
        "./configure\n",
        "cd src\n",
        "sudo make install"
      ],
      "execution_count": null,
      "outputs": []
    },
    {
      "cell_type": "markdown",
      "metadata": {
        "id": "8bdpo6MRW8BC"
      },
      "source": [
        "VMD could run in text mode with many tcl scripts.\n",
        "\n",
        "Scripts are available in my Github and on how to use, please watch this video playlist: https://www.youtube.com/playlist?list=PL51Wmedj8glfHFB5LDc4bOVMKs7Zaf0wk"
      ]
    },
    {
      "cell_type": "code",
      "source": [
        "!pip install colab-xterm\n",
        "%load_ext colabxterm\n",
        "%xterm"
      ],
      "metadata": {
        "id": "bKR9Z6joNCj6"
      },
      "execution_count": null,
      "outputs": []
    },
    {
      "cell_type": "markdown",
      "metadata": {
        "id": "e0ZM32NXcilF"
      },
      "source": [
        "Most of the prm and config files are available at\n",
        "\n",
        "https://github.com/giribio/MDNotebooks/tree/master/namd\n",
        "\n",
        "under configs and parameters folders"
      ]
    },
    {
      "cell_type": "code",
      "metadata": {
        "id": "lLmpP1ydM6_W"
      },
      "source": [
        "# Download or upload CHARMM-GUI file\n",
        "\n",
        "!curl 'https://charmm-gui.org/?doc=input/download&jobid=############' \\\n",
        "  -H 'Connection: keep-alive' \\\n",
        "  -H 'sec-ch-ua: \"Google Chrome\";v=\"95\", \"Chromium\";v=\"95\", \";Not A Brand\";v=\"99\"' \\\n",
        "  -H 'sec-ch-ua-mobile: ?0' \\\n",
        "  -H 'sec-ch-ua-platform: \"Windows\"' \\\n",
        "  -H 'Upgrade-Insecure-Requests: 1' \\\n",
        "  -H 'User-Agent: Mozilla/5.0 (Windows NT 10.0; Win64; x64) AppleWebKit/537.36 (KHTML, like Gecko) Chrome/95.0.4638.54 Safari/537.36' \\\n",
        "  -H 'Accept: text/html,application/xhtml+xml,application/xml;q=0.9,image/avif,image/webp,image/apng,*/*;q=0.8,application/signed-exchange;v=b3;q=0.9' \\\n",
        "  -H 'Sec-Fetch-Site: same-origin' \\\n",
        "  -H 'Sec-Fetch-Mode: navigate' \\\n",
        "  -H 'Sec-Fetch-User: ?1' \\\n",
        "  -H 'Sec-Fetch-Dest: document' \\\n",
        "  -H 'Referer: https://charmm-gui.org/?doc=input/solution&step=4' \\\n",
        "  -H 'Accept-Language: en-US,en;q=0.9,ar-AE;q=0.8,ar;q=0.7' \\\n",
        "  -H 'Cookie: __utma=194423551.1282894827.1616081420.1616513672.1616761919.7; _ga=GA1.2.1282894827.1616081420; PHPSESSID=640if26cvc91d0tvuo4v56q16k; visit=ok; _gid=GA1.2.1908401265.1636701249' \\\n",
        "  -H 'sec-gpc: 1' \\\n",
        "  --compressed \\\n",
        "  --output ubq.tgz\n"
      ],
      "execution_count": null,
      "outputs": []
    },
    {
      "cell_type": "markdown",
      "metadata": {
        "id": "nUHp_IDHdjSr"
      },
      "source": [
        "Run MD Simulation\n",
        "\n",
        "Make sure you have enough space in the Google Drive..\n",
        "\n",
        "File size may go beyond 5-10GB"
      ]
    },
    {
      "cell_type": "code",
      "metadata": {
        "id": "-mvNX0mWNZFl"
      },
      "source": [
        "#Run NAMD using the following command.\n",
        "#p2 is the maximum, only 2 CPUs available\n",
        "%%bash\n",
        "cd Namd\n",
        "/content/namdgpu/charmrun /content/namdgpu/namd2 +idlepoll +p2 iteration2.conf > iteration2.log"
      ],
      "execution_count": null,
      "outputs": []
    },
    {
      "cell_type": "code",
      "source": [
        "eq = \"/content/Namd/iteration2.log\"\n",
        "with open( eq, \"r\") as file1:\n",
        "    FileContent = file1.read()\n",
        "    print(FileContent)"
      ],
      "metadata": {
        "id": "qmxWxv6qqsb_"
      },
      "execution_count": null,
      "outputs": []
    },
    {
      "cell_type": "code",
      "source": [
        "#cd Namd\n",
        "#!vim iteration2.conf "
      ],
      "metadata": {
        "id": "aAaTKbiY6hCi"
      },
      "execution_count": null,
      "outputs": []
    },
    {
      "cell_type": "code",
      "source": [
        "!tar czfv  NAMD_CG_PME_BOX60.tar.gz /content/Namd/*iteration2*.*\n",
        "!cp  /content/Namd/NAMD_CG_PME_BOX60.tar.gz  /content/gdrive/MyDrive/sim/"
      ],
      "metadata": {
        "id": "gp_m0iQ_2vMR"
      },
      "execution_count": null,
      "outputs": []
    },
    {
      "cell_type": "markdown",
      "metadata": {
        "id": "Hid18GSdd6d6"
      },
      "source": [
        "Make sure you download the log file to check the status.\n",
        "\n",
        "As the file size of DCD could go beyond 2GB, make sure your have the databackup to download via Internet for further analysis via VMD."
      ]
    },
    {
      "cell_type": "code",
      "metadata": {
        "id": "JI-f0Xd3O_yY"
      },
      "source": [
        "!/content/namdgpu/charmrun /content/namdgpu/namd2 +idlepoll +p2 02_Heating.conf > heat.log"
      ],
      "execution_count": null,
      "outputs": []
    },
    {
      "cell_type": "code",
      "metadata": {
        "id": "nDZgw1hcjU0z"
      },
      "source": [
        "!/content/namdgpu/charmrun /content/namdgpu/namd2 +idlepoll +p2 03_Equilibration.conf> equil.log"
      ],
      "execution_count": null,
      "outputs": []
    },
    {
      "cell_type": "code",
      "metadata": {
        "id": "6kUnYj7ojVGX"
      },
      "source": [
        "!/content/namdgpu/charmrun /content/namdgpu/namd2 +idlepoll +p2 04_Production_nvt.conf> nvt.log"
      ],
      "execution_count": null,
      "outputs": []
    },
    {
      "cell_type": "markdown",
      "metadata": {
        "id": "w6hRlMdod3qM"
      },
      "source": [
        "Analysis such as RMSD, RMSF, RoG, HBond, SASA are possible via TCL scripts. You could find the scripts in https://github.com/giribio/MDNotebooks/tree/master/namd/scripts"
      ]
    }
  ]
}